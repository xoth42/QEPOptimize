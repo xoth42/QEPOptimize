{
 "cells": [
  {
   "cell_type": "code",
   "execution_count": 1,
   "metadata": {},
   "outputs": [
    {
     "name": "stderr",
     "output_type": "stream",
     "text": [
      "\u001b[32m\u001b[1m  Activating\u001b[22m\u001b[39m project at `~/Research/krastanov_lab/QEPOptimize`\n"
     ]
    }
   ],
   "source": [
    "# Init if needed\n",
    "using Pkg\n",
    "Pkg.activate(\"../.\") # QEPOptimize/ instead of QEPOptimize/example/\n",
    "Pkg.instantiate()\n"
   ]
  },
  {
   "cell_type": "code",
   "execution_count": 2,
   "metadata": {},
   "outputs": [],
   "source": [
    "using QEPO.Visualizer: display_top_circuits,plot_performance_metrics\n",
    "using QEPO.Configurable\n",
    "using QEPO.Optimizer"
   ]
  },
  {
   "cell_type": "markdown",
   "metadata": {},
   "source": [
    "## Configuration\n"
   ]
  },
  {
   "cell_type": "code",
   "execution_count": 3,
   "metadata": {},
   "outputs": [
    {
     "data": {
      "text/plain": [
       "purified_pairs_fidelity::CostFunction = 1"
      ]
     },
     "metadata": {},
     "output_type": "display_data"
    }
   ],
   "source": [
    "# Custom parameters\n",
    "dataPath = \"../QEPO/data/ibm_sherbrooke_calibrations_2024-10-09.csv\"\n",
    "valid_qubits::Array{Int} = ([ 43, 44, 45, 46, 47,  48, 49, 50])\n",
    "hw_cfg = HardwareConfiguration(dataPath,valid_qubits)\n",
    "adv_cfg = AdvancedConfiguration()\n",
    "adv_cfg.population_size = 20\n",
    "adv_cfg.children_per_pair = 2\n",
    "adv_cfg.starting_pop_multiplier = 100\n",
    "adv_cfg.starting_ops = 7\n",
    "adv_cfg.communication_fidelity_in = .8\n",
    "adv_cfg.p_add_operation = .2\n",
    "config = Configuration(hw_cfg,adv_cfg)\n",
    "\n",
    "# Main parameters\n",
    "config.raw_bell_pairs = 4\n",
    "config.num_registers = 4\n",
    "config.max_ops = 10\n",
    "config.num_simulations = 5000\n",
    "config.max_gen = 10\n",
    "\n",
    "# Optimization target \n",
    "config.optimize_for = purified_pairs_fidelity\n",
    "# config.optimize_for = logical_qubit_fidelity\n",
    "# config.optimize_for = average_marginal_fidelity\n"
   ]
  },
  {
   "cell_type": "markdown",
   "metadata": {},
   "source": [
    "## Optimization\n"
   ]
  },
  {
   "cell_type": "code",
   "execution_count": 4,
   "metadata": {},
   "outputs": [
    {
     "data": {
      "text/plain": [
       "Population(Individual[], Dict{String, Vector{Int64}}())"
      ]
     },
     "metadata": {},
     "output_type": "display_data"
    }
   ],
   "source": [
    "# Reset genetic optimizer population\n",
    "pop = Population()"
   ]
  },
  {
   "cell_type": "code",
   "execution_count": 5,
   "metadata": {},
   "outputs": [
    {
     "name": "stdout",
     "output_type": "stream",
     "text": [
      "Running process: generation 1\n",
      "Running process: generation 2\n",
      "Running process: generation 3\n",
      "Running process: generation 4\n",
      "Running process: generation 5\n",
      "Running process: generation 6\n",
      "Running process: generation 7\n",
      "Running process: generation 8\n",
      "Running process: generation 9\n",
      "Running process: generation 10\n"
     ]
    },
    {
     "data": {
      "image/png": "[encoded data removed]",
      "image/svg+xml": [
       "<?xml version=\"1.0\" encoding=\"utf-8\"?>\n",
       "<svg xmlns=\"http://www.w3.org/2000/svg\" xmlns:xlink=\"http://www.w3.org/1999/xlink\" width=\"600\" height=\"400\" viewBox=\"0 0 2400 1600\">\n",
       "<defs>\n",
       "  <clipPath id=\"clip900\">\n",
       "    <rect x=\"0\" y=\"0\" width=\"2400\" height=\"1600\"/>\n",
       "  </clipPath>\n",
       "</defs>\n",
       "<path clip-path=\"url(#clip900)\" d=\"M0 1600 L2400 1600 L2400 0 L0 0  Z\" fill=\"#ffffff\" fill-rule=\"evenodd\" fill-opacity=\"1\"/>\n",
       "<defs>\n",
       "  <clipPath id=\"clip901\">\n",
       "    <rect x=\"480\" y=\"0\" width=\"1681\" height=\"1600\"/>\n",
       "  </clipPath>\n",
       "</defs>\n",
       "<path clip-path=\"url(#clip900)\" d=\"M215.804 1422.68 L2352.76 1422.68 L2352.76 123.838 L215.804 123.838  Z\" fill=\"#ffffff\" fill-rule=\"evenodd\" fill-opacity=\"1\"/>\n",
       "<defs>\n",
       "  <clipPath id=\"clip902\">\n",
       "    <rect x=\"215\" y=\"123\" width=\"2138\" height=\"1300\"/>\n",
       "  </clipPath>\n",
       "</defs>\n",
       "<polyline clip-path=\"url(#clip902)\" style=\"stroke:#000000; stroke-linecap:round; stroke-linejoin:round; stroke-width:2; stroke-opacity:0.1; fill:none\" points=\"500.283,1422.68 500.283,123.838 \"/>\n",
       "<polyline clip-path=\"url(#clip902)\" style=\"stroke:#000000; stroke-linecap:round; stroke-linejoin:round; stroke-width:2; stroke-opacity:0.1; fill:none\" points=\"948.281,1422.68 948.281,123.838 \"/>\n",
       "<polyline clip-path=\"url(#clip902)\" style=\"stroke:#000000; stroke-linecap:round; stroke-linejoin:round; stroke-width:2; stroke-opacity:0.1; fill:none\" points=\"1396.28,1422.68 1396.28,123.838 \"/>\n",
       "<polyline clip-path=\"url(#clip902)\" style=\"stroke:#000000; stroke-linecap:round; stroke-linejoin:round; stroke-width:2; stroke-opacity:0.1; fill:none\" points=\"1844.28,1422.68 1844.28,123.838 \"/>\n",
       "<polyline clip-path=\"url(#clip902)\" style=\"stroke:#000000; stroke-linecap:round; stroke-linejoin:round; stroke-width:2; stroke-opacity:0.1; fill:none\" points=\"2292.28,1422.68 2292.28,123.838 \"/>\n",
       "<polyline clip-path=\"url(#clip902)\" style=\"stroke:#000000; stroke-linecap:round; stroke-linejoin:round; stroke-width:2; stroke-opacity:0.1; fill:none\" points=\"215.804,1422.68 2352.76,1422.68 \"/>\n",
       "<polyline clip-path=\"url(#clip902)\" style=\"stroke:#000000; stroke-linecap:round; stroke-linejoin:round; stroke-width:2; stroke-opacity:0.1; fill:none\" points=\"215.804,1003.7 2352.76,1003.7 \"/>\n",
       "<polyline clip-path=\"url(#clip902)\" style=\"stroke:#000000; stroke-linecap:round; stroke-linejoin:round; stroke-width:2; stroke-opacity:0.1; fill:none\" points=\"215.804,584.719 2352.76,584.719 \"/>\n",
       "<polyline clip-path=\"url(#clip902)\" style=\"stroke:#000000; stroke-linecap:round; stroke-linejoin:round; stroke-width:2; stroke-opacity:0.1; fill:none\" points=\"215.804,165.736 2352.76,165.736 \"/>\n",
       "<polyline clip-path=\"url(#clip900)\" style=\"stroke:#000000; stroke-linecap:round; stroke-linejoin:round; stroke-width:4; stroke-opacity:1; fill:none\" points=\"215.804,1422.68 2352.76,1422.68 \"/>\n",
       "<polyline clip-path=\"url(#clip900)\" style=\"stroke:#000000; stroke-linecap:round; stroke-linejoin:round; stroke-width:4; stroke-opacity:1; fill:none\" points=\"500.283,1422.68 500.283,1403.79 \"/>\n",
       "<polyline clip-path=\"url(#clip900)\" style=\"stroke:#000000; stroke-linecap:round; stroke-linejoin:round; stroke-width:4; stroke-opacity:1; fill:none\" points=\"948.281,1422.68 948.281,1403.79 \"/>\n",
       "<polyline clip-path=\"url(#clip900)\" style=\"stroke:#000000; stroke-linecap:round; stroke-linejoin:round; stroke-width:4; stroke-opacity:1; fill:none\" points=\"1396.28,1422.68 1396.28,1403.79 \"/>\n",
       "<polyline clip-path=\"url(#clip900)\" style=\"stroke:#000000; stroke-linecap:round; stroke-linejoin:round; stroke-width:4; stroke-opacity:1; fill:none\" points=\"1844.28,1422.68 1844.28,1403.79 \"/>\n",
       "<polyline clip-path=\"url(#clip900)\" style=\"stroke:#000000; stroke-linecap:round; stroke-linejoin:round; stroke-width:4; stroke-opacity:1; fill:none\" points=\"2292.28,1422.68 2292.28,1403.79 \"/>\n",
       "<g clip-path=\"url(#clip900)\">\n",
       "<text style=\"fill:#000000; fill-opacity:1; font-family:Times New Roman,TimesNewRoman,Times,Baskerville,Georgia,serif; font-size:53px; text-anchor:middle;\" transform=\"rotate(0, 500.283, 1485.46)\" x=\"500.283\" y=\"1485.46\">2</text>\n",
       "</g>\n",
       "<g clip-path=\"url(#clip900)\">\n",
       "<text style=\"fill:#000000; fill-opacity:1; font-family:Times New Roman,TimesNewRoman,Times,Baskerville,Georgia,serif; font-size:53px; text-anchor:middle;\" transform=\"rotate(0, 948.281, 1485.46)\" x=\"948.281\" y=\"1485.46\">4</text>\n",
       "</g>\n",
       "<g clip-path=\"url(#clip900)\">\n",
       "<text style=\"fill:#000000; fill-opacity:1; font-family:Times New Roman,TimesNewRoman,Times,Baskerville,Georgia,serif; font-size:53px; text-anchor:middle;\" transform=\"rotate(0, 1396.28, 1485.46)\" x=\"1396.28\" y=\"1485.46\">6</text>\n",
       "</g>\n",
       "<g clip-path=\"url(#clip900)\">\n",
       "<text style=\"fill:#000000; fill-opacity:1; font-family:Times New Roman,TimesNewRoman,Times,Baskerville,Georgia,serif; font-size:53px; text-anchor:middle;\" transform=\"rotate(0, 1844.28, 1485.46)\" x=\"1844.28\" y=\"1485.46\">8</text>\n",
       "</g>\n",
       "<g clip-path=\"url(#clip900)\">\n",
       "<text style=\"fill:#000000; fill-opacity:1; font-family:Times New Roman,TimesNewRoman,Times,Baskerville,Georgia,serif; font-size:53px; text-anchor:middle;\" transform=\"rotate(0, 2292.28, 1485.46)\" x=\"2292.28\" y=\"1485.46\">10</text>\n",
       "</g>\n",
       "<g clip-path=\"url(#clip900)\">\n",
       "<text style=\"fill:#000000; fill-opacity:1; font-family:Times New Roman,TimesNewRoman,Times,Baskerville,Georgia,serif; font-size:73px; text-anchor:middle;\" transform=\"rotate(0, 1284.28, 1572.95)\" x=\"1284.28\" y=\"1572.95\">Generation</text>\n",
       "</g>\n",
       "<polyline clip-path=\"url(#clip900)\" style=\"stroke:#000000; stroke-linecap:round; stroke-linejoin:round; stroke-width:4; stroke-opacity:1; fill:none\" points=\"215.804,1422.68 215.804,123.838 \"/>\n",
       "<polyline clip-path=\"url(#clip900)\" style=\"stroke:#000000; stroke-linecap:round; stroke-linejoin:round; stroke-width:4; stroke-opacity:1; fill:none\" points=\"215.804,1422.68 234.702,1422.68 \"/>\n",
       "<polyline clip-path=\"url(#clip900)\" style=\"stroke:#000000; stroke-linecap:round; stroke-linejoin:round; stroke-width:4; stroke-opacity:1; fill:none\" points=\"215.804,1003.7 234.702,1003.7 \"/>\n",
       "<polyline clip-path=\"url(#clip900)\" style=\"stroke:#000000; stroke-linecap:round; stroke-linejoin:round; stroke-width:4; stroke-opacity:1; fill:none\" points=\"215.804,584.719 234.702,584.719 \"/>\n",
       "<polyline clip-path=\"url(#clip900)\" style=\"stroke:#000000; stroke-linecap:round; stroke-linejoin:round; stroke-width:4; stroke-opacity:1; fill:none\" points=\"215.804,165.736 234.702,165.736 \"/>\n",
       "<g clip-path=\"url(#clip900)\">\n",
       "<text style=\"fill:#000000; fill-opacity:1; font-family:Times New Roman,TimesNewRoman,Times,Baskerville,Georgia,serif; font-size:53px; text-anchor:middle;\" transform=\"rotate(0, 147.176, 1440.18)\" x=\"147.176\" y=\"1440.18\">0.7</text>\n",
       "</g>\n",
       "<g clip-path=\"url(#clip900)\">\n",
       "<text style=\"fill:#000000; fill-opacity:1; font-family:Times New Roman,TimesNewRoman,Times,Baskerville,Georgia,serif; font-size:53px; text-anchor:middle;\" transform=\"rotate(0, 147.176, 1021.2)\" x=\"147.176\" y=\"1021.2\">0.8</text>\n",
       "</g>\n",
       "<g clip-path=\"url(#clip900)\">\n",
       "<text style=\"fill:#000000; fill-opacity:1; font-family:Times New Roman,TimesNewRoman,Times,Baskerville,Georgia,serif; font-size:53px; text-anchor:middle;\" transform=\"rotate(0, 147.176, 602.219)\" x=\"147.176\" y=\"602.219\">0.9</text>\n",
       "</g>\n",
       "<g clip-path=\"url(#clip900)\">\n",
       "<text style=\"fill:#000000; fill-opacity:1; font-family:Times New Roman,TimesNewRoman,Times,Baskerville,Georgia,serif; font-size:53px; text-anchor:middle;\" transform=\"rotate(0, 147.176, 183.236)\" x=\"147.176\" y=\"183.236\">1.0</text>\n",
       "</g>\n",
       "<g clip-path=\"url(#clip900)\">\n",
       "<text style=\"fill:#000000; fill-opacity:1; font-family:Times New Roman,TimesNewRoman,Times,Baskerville,Georgia,serif; font-size:73px; text-anchor:middle;\" transform=\"rotate(-90, 64.4366, 773.261)\" x=\"64.4366\" y=\"773.261\">Fitness</text>\n",
       "</g>\n",
       "<g clip-path=\"url(#clip900)\">\n",
       "<text style=\"fill:#000000; fill-opacity:1; font-family:Times New Roman,TimesNewRoman,Times,Baskerville,Georgia,serif; font-size:92px; text-anchor:middle;\" transform=\"rotate(0, 1284.28, 73.2)\" x=\"1284.28\" y=\"73.2\">Optimization History</text>\n",
       "</g>\n",
       "<polyline clip-path=\"url(#clip902)\" style=\"stroke:#009af9; stroke-linecap:round; stroke-linejoin:round; stroke-width:8; stroke-opacity:1; fill:none\" points=\"276.284,635.899 500.283,653.931 724.282,658.136 948.281,621.282 1172.28,610.541 1396.28,573.46 1620.28,636.173 1844.28,613.392 2068.28,612.467 2292.28,463.651 \"/>\n",
       "<polyline clip-path=\"url(#clip902)\" style=\"stroke:#e26f46; stroke-linecap:round; stroke-linejoin:round; stroke-width:8; stroke-opacity:1; fill:none\" points=\"276.284,779.619 500.283,787.793 724.282,768.535 948.281,745.537 1172.28,770.968 1396.28,795.122 1620.28,777.733 1844.28,741.345 2068.28,713.879 2292.28,758.206 \"/>\n",
       "<polyline clip-path=\"url(#clip902)\" style=\"stroke:#3da44d; stroke-linecap:round; stroke-linejoin:round; stroke-width:8; stroke-opacity:1; fill:none\" points=\"276.284,717.528 500.283,706.237 724.282,710.069 948.281,694.928 1172.28,693.064 1396.28,688.585 1620.28,693.091 1844.28,674.549 2068.28,664.477 2292.28,658.488 \"/>\n",
       "<path clip-path=\"url(#clip900)\" d=\"M1434.26 375.745 L2281.52 375.745 L2281.52 167.132 L1434.26 167.132  Z\" fill=\"#ffffff\" fill-rule=\"evenodd\" fill-opacity=\"1\"/>\n",
       "<polyline clip-path=\"url(#clip900)\" style=\"stroke:#000000; stroke-linecap:round; stroke-linejoin:round; stroke-width:4; stroke-opacity:1; fill:none\" points=\"1434.26,375.745 2281.52,375.745 2281.52,167.132 1434.26,167.132 1434.26,375.745 \"/>\n",
       "<polyline clip-path=\"url(#clip900)\" style=\"stroke:#009af9; stroke-linecap:round; stroke-linejoin:round; stroke-width:8; stroke-opacity:1; fill:none\" points=\"1458.01,219.286 1600.47,219.286 \"/>\n",
       "<g clip-path=\"url(#clip900)\">\n",
       "<text style=\"fill:#000000; fill-opacity:1; font-family:Times New Roman,TimesNewRoman,Times,Baskerville,Georgia,serif; font-size:53px; text-anchor:start;\" transform=\"rotate(0, 1624.22, 236.786)\" x=\"1624.22\" y=\"236.786\">Best purified pairs fidelity</text>\n",
       "</g>\n",
       "<polyline clip-path=\"url(#clip900)\" style=\"stroke:#e26f46; stroke-linecap:round; stroke-linejoin:round; stroke-width:8; stroke-opacity:1; fill:none\" points=\"1458.01,271.439 1600.47,271.439 \"/>\n",
       "<g clip-path=\"url(#clip900)\">\n",
       "<text style=\"fill:#000000; fill-opacity:1; font-family:Times New Roman,TimesNewRoman,Times,Baskerville,Georgia,serif; font-size:53px; text-anchor:start;\" transform=\"rotate(0, 1624.22, 288.939)\" x=\"1624.22\" y=\"288.939\">Worst purified pairs fidelity</text>\n",
       "</g>\n",
       "<polyline clip-path=\"url(#clip900)\" style=\"stroke:#3da44d; stroke-linecap:round; stroke-linejoin:round; stroke-width:8; stroke-opacity:1; fill:none\" points=\"1458.01,323.592 1600.47,323.592 \"/>\n",
       "<g clip-path=\"url(#clip900)\">\n",
       "<text style=\"fill:#000000; fill-opacity:1; font-family:Times New Roman,TimesNewRoman,Times,Baskerville,Georgia,serif; font-size:53px; text-anchor:start;\" transform=\"rotate(0, 1624.22, 341.092)\" x=\"1624.22\" y=\"341.092\">Average purified pairs fidelity</text>\n",
       "</g>\n",
       "</svg>\n"
      ],
      "text/html": [
       "<?xml version=\"1.0\" encoding=\"utf-8\"?>\n",
       "<svg xmlns=\"http://www.w3.org/2000/svg\" xmlns:xlink=\"http://www.w3.org/1999/xlink\" width=\"600\" height=\"400\" viewBox=\"0 0 2400 1600\">\n",
       "<defs>\n",
       "  <clipPath id=\"clip950\">\n",
       "    <rect x=\"0\" y=\"0\" width=\"2400\" height=\"1600\"/>\n",
       "  </clipPath>\n",
       "</defs>\n",
       "<path clip-path=\"url(#clip950)\" d=\"M0 1600 L2400 1600 L2400 0 L0 0  Z\" fill=\"#ffffff\" fill-rule=\"evenodd\" fill-opacity=\"1\"/>\n",
       "<defs>\n",
       "  <clipPath id=\"clip951\">\n",
       "    <rect x=\"480\" y=\"0\" width=\"1681\" height=\"1600\"/>\n",
       "  </clipPath>\n",
       "</defs>\n",
       "<path clip-path=\"url(#clip950)\" d=\"M215.804 1422.68 L2352.76 1422.68 L2352.76 123.838 L215.804 123.838  Z\" fill=\"#ffffff\" fill-rule=\"evenodd\" fill-opacity=\"1\"/>\n",
       "<defs>\n",
       "  <clipPath id=\"clip952\">\n",
       "    <rect x=\"215\" y=\"123\" width=\"2138\" height=\"1300\"/>\n",
       "  </clipPath>\n",
       "</defs>\n",
       "<polyline clip-path=\"url(#clip952)\" style=\"stroke:#000000; stroke-linecap:round; stroke-linejoin:round; stroke-width:2; stroke-opacity:0.1; fill:none\" points=\"500.283,1422.68 500.283,123.838 \"/>\n",
       "<polyline clip-path=\"url(#clip952)\" style=\"stroke:#000000; stroke-linecap:round; stroke-linejoin:round; stroke-width:2; stroke-opacity:0.1; fill:none\" points=\"948.281,1422.68 948.281,123.838 \"/>\n",
       "<polyline clip-path=\"url(#clip952)\" style=\"stroke:#000000; stroke-linecap:round; stroke-linejoin:round; stroke-width:2; stroke-opacity:0.1; fill:none\" points=\"1396.28,1422.68 1396.28,123.838 \"/>\n",
       "<polyline clip-path=\"url(#clip952)\" style=\"stroke:#000000; stroke-linecap:round; stroke-linejoin:round; stroke-width:2; stroke-opacity:0.1; fill:none\" points=\"1844.28,1422.68 1844.28,123.838 \"/>\n",
       "<polyline clip-path=\"url(#clip952)\" style=\"stroke:#000000; stroke-linecap:round; stroke-linejoin:round; stroke-width:2; stroke-opacity:0.1; fill:none\" points=\"2292.28,1422.68 2292.28,123.838 \"/>\n",
       "<polyline clip-path=\"url(#clip952)\" style=\"stroke:#000000; stroke-linecap:round; stroke-linejoin:round; stroke-width:2; stroke-opacity:0.1; fill:none\" points=\"215.804,1422.68 2352.76,1422.68 \"/>\n",
       "<polyline clip-path=\"url(#clip952)\" style=\"stroke:#000000; stroke-linecap:round; stroke-linejoin:round; stroke-width:2; stroke-opacity:0.1; fill:none\" points=\"215.804,1003.7 2352.76,1003.7 \"/>\n",
       "<polyline clip-path=\"url(#clip952)\" style=\"stroke:#000000; stroke-linecap:round; stroke-linejoin:round; stroke-width:2; stroke-opacity:0.1; fill:none\" points=\"215.804,584.719 2352.76,584.719 \"/>\n",
       "<polyline clip-path=\"url(#clip952)\" style=\"stroke:#000000; stroke-linecap:round; stroke-linejoin:round; stroke-width:2; stroke-opacity:0.1; fill:none\" points=\"215.804,165.736 2352.76,165.736 \"/>\n",
       "<polyline clip-path=\"url(#clip950)\" style=\"stroke:#000000; stroke-linecap:round; stroke-linejoin:round; stroke-width:4; stroke-opacity:1; fill:none\" points=\"215.804,1422.68 2352.76,1422.68 \"/>\n",
       "<polyline clip-path=\"url(#clip950)\" style=\"stroke:#000000; stroke-linecap:round; stroke-linejoin:round; stroke-width:4; stroke-opacity:1; fill:none\" points=\"500.283,1422.68 500.283,1403.79 \"/>\n",
       "<polyline clip-path=\"url(#clip950)\" style=\"stroke:#000000; stroke-linecap:round; stroke-linejoin:round; stroke-width:4; stroke-opacity:1; fill:none\" points=\"948.281,1422.68 948.281,1403.79 \"/>\n",
       "<polyline clip-path=\"url(#clip950)\" style=\"stroke:#000000; stroke-linecap:round; stroke-linejoin:round; stroke-width:4; stroke-opacity:1; fill:none\" points=\"1396.28,1422.68 1396.28,1403.79 \"/>\n",
       "<polyline clip-path=\"url(#clip950)\" style=\"stroke:#000000; stroke-linecap:round; stroke-linejoin:round; stroke-width:4; stroke-opacity:1; fill:none\" points=\"1844.28,1422.68 1844.28,1403.79 \"/>\n",
       "<polyline clip-path=\"url(#clip950)\" style=\"stroke:#000000; stroke-linecap:round; stroke-linejoin:round; stroke-width:4; stroke-opacity:1; fill:none\" points=\"2292.28,1422.68 2292.28,1403.79 \"/>\n",
       "<g clip-path=\"url(#clip950)\">\n",
       "<text style=\"fill:#000000; fill-opacity:1; font-family:Times New Roman,TimesNewRoman,Times,Baskerville,Georgia,serif; font-size:53px; text-anchor:middle;\" transform=\"rotate(0, 500.283, 1485.46)\" x=\"500.283\" y=\"1485.46\">2</text>\n",
       "</g>\n",
       "<g clip-path=\"url(#clip950)\">\n",
       "<text style=\"fill:#000000; fill-opacity:1; font-family:Times New Roman,TimesNewRoman,Times,Baskerville,Georgia,serif; font-size:53px; text-anchor:middle;\" transform=\"rotate(0, 948.281, 1485.46)\" x=\"948.281\" y=\"1485.46\">4</text>\n",
       "</g>\n",
       "<g clip-path=\"url(#clip950)\">\n",
       "<text style=\"fill:#000000; fill-opacity:1; font-family:Times New Roman,TimesNewRoman,Times,Baskerville,Georgia,serif; font-size:53px; text-anchor:middle;\" transform=\"rotate(0, 1396.28, 1485.46)\" x=\"1396.28\" y=\"1485.46\">6</text>\n",
       "</g>\n",
       "<g clip-path=\"url(#clip950)\">\n",
       "<text style=\"fill:#000000; fill-opacity:1; font-family:Times New Roman,TimesNewRoman,Times,Baskerville,Georgia,serif; font-size:53px; text-anchor:middle;\" transform=\"rotate(0, 1844.28, 1485.46)\" x=\"1844.28\" y=\"1485.46\">8</text>\n",
       "</g>\n",
       "<g clip-path=\"url(#clip950)\">\n",
       "<text style=\"fill:#000000; fill-opacity:1; font-family:Times New Roman,TimesNewRoman,Times,Baskerville,Georgia,serif; font-size:53px; text-anchor:middle;\" transform=\"rotate(0, 2292.28, 1485.46)\" x=\"2292.28\" y=\"1485.46\">10</text>\n",
       "</g>\n",
       "<g clip-path=\"url(#clip950)\">\n",
       "<text style=\"fill:#000000; fill-opacity:1; font-family:Times New Roman,TimesNewRoman,Times,Baskerville,Georgia,serif; font-size:73px; text-anchor:middle;\" transform=\"rotate(0, 1284.28, 1572.95)\" x=\"1284.28\" y=\"1572.95\">Generation</text>\n",
       "</g>\n",
       "<polyline clip-path=\"url(#clip950)\" style=\"stroke:#000000; stroke-linecap:round; stroke-linejoin:round; stroke-width:4; stroke-opacity:1; fill:none\" points=\"215.804,1422.68 215.804,123.838 \"/>\n",
       "<polyline clip-path=\"url(#clip950)\" style=\"stroke:#000000; stroke-linecap:round; stroke-linejoin:round; stroke-width:4; stroke-opacity:1; fill:none\" points=\"215.804,1422.68 234.702,1422.68 \"/>\n",
       "<polyline clip-path=\"url(#clip950)\" style=\"stroke:#000000; stroke-linecap:round; stroke-linejoin:round; stroke-width:4; stroke-opacity:1; fill:none\" points=\"215.804,1003.7 234.702,1003.7 \"/>\n",
       "<polyline clip-path=\"url(#clip950)\" style=\"stroke:#000000; stroke-linecap:round; stroke-linejoin:round; stroke-width:4; stroke-opacity:1; fill:none\" points=\"215.804,584.719 234.702,584.719 \"/>\n",
       "<polyline clip-path=\"url(#clip950)\" style=\"stroke:#000000; stroke-linecap:round; stroke-linejoin:round; stroke-width:4; stroke-opacity:1; fill:none\" points=\"215.804,165.736 234.702,165.736 \"/>\n",
       "<g clip-path=\"url(#clip950)\">\n",
       "<text style=\"fill:#000000; fill-opacity:1; font-family:Times New Roman,TimesNewRoman,Times,Baskerville,Georgia,serif; font-size:53px; text-anchor:middle;\" transform=\"rotate(0, 147.176, 1440.18)\" x=\"147.176\" y=\"1440.18\">0.7</text>\n",
       "</g>\n",
       "<g clip-path=\"url(#clip950)\">\n",
       "<text style=\"fill:#000000; fill-opacity:1; font-family:Times New Roman,TimesNewRoman,Times,Baskerville,Georgia,serif; font-size:53px; text-anchor:middle;\" transform=\"rotate(0, 147.176, 1021.2)\" x=\"147.176\" y=\"1021.2\">0.8</text>\n",
       "</g>\n",
       "<g clip-path=\"url(#clip950)\">\n",
       "<text style=\"fill:#000000; fill-opacity:1; font-family:Times New Roman,TimesNewRoman,Times,Baskerville,Georgia,serif; font-size:53px; text-anchor:middle;\" transform=\"rotate(0, 147.176, 602.219)\" x=\"147.176\" y=\"602.219\">0.9</text>\n",
       "</g>\n",
       "<g clip-path=\"url(#clip950)\">\n",
       "<text style=\"fill:#000000; fill-opacity:1; font-family:Times New Roman,TimesNewRoman,Times,Baskerville,Georgia,serif; font-size:53px; text-anchor:middle;\" transform=\"rotate(0, 147.176, 183.236)\" x=\"147.176\" y=\"183.236\">1.0</text>\n",
       "</g>\n",
       "<g clip-path=\"url(#clip950)\">\n",
       "<text style=\"fill:#000000; fill-opacity:1; font-family:Times New Roman,TimesNewRoman,Times,Baskerville,Georgia,serif; font-size:73px; text-anchor:middle;\" transform=\"rotate(-90, 64.4366, 773.261)\" x=\"64.4366\" y=\"773.261\">Fitness</text>\n",
       "</g>\n",
       "<g clip-path=\"url(#clip950)\">\n",
       "<text style=\"fill:#000000; fill-opacity:1; font-family:Times New Roman,TimesNewRoman,Times,Baskerville,Georgia,serif; font-size:92px; text-anchor:middle;\" transform=\"rotate(0, 1284.28, 73.2)\" x=\"1284.28\" y=\"73.2\">Optimization History</text>\n",
       "</g>\n",
       "<polyline clip-path=\"url(#clip952)\" style=\"stroke:#009af9; stroke-linecap:round; stroke-linejoin:round; stroke-width:8; stroke-opacity:1; fill:none\" points=\"276.284,635.899 500.283,653.931 724.282,658.136 948.281,621.282 1172.28,610.541 1396.28,573.46 1620.28,636.173 1844.28,613.392 2068.28,612.467 2292.28,463.651 \"/>\n",
       "<polyline clip-path=\"url(#clip952)\" style=\"stroke:#e26f46; stroke-linecap:round; stroke-linejoin:round; stroke-width:8; stroke-opacity:1; fill:none\" points=\"276.284,779.619 500.283,787.793 724.282,768.535 948.281,745.537 1172.28,770.968 1396.28,795.122 1620.28,777.733 1844.28,741.345 2068.28,713.879 2292.28,758.206 \"/>\n",
       "<polyline clip-path=\"url(#clip952)\" style=\"stroke:#3da44d; stroke-linecap:round; stroke-linejoin:round; stroke-width:8; stroke-opacity:1; fill:none\" points=\"276.284,717.528 500.283,706.237 724.282,710.069 948.281,694.928 1172.28,693.064 1396.28,688.585 1620.28,693.091 1844.28,674.549 2068.28,664.477 2292.28,658.488 \"/>\n",
       "<path clip-path=\"url(#clip950)\" d=\"M1434.26 375.745 L2281.52 375.745 L2281.52 167.132 L1434.26 167.132  Z\" fill=\"#ffffff\" fill-rule=\"evenodd\" fill-opacity=\"1\"/>\n",
       "<polyline clip-path=\"url(#clip950)\" style=\"stroke:#000000; stroke-linecap:round; stroke-linejoin:round; stroke-width:4; stroke-opacity:1; fill:none\" points=\"1434.26,375.745 2281.52,375.745 2281.52,167.132 1434.26,167.132 1434.26,375.745 \"/>\n",
       "<polyline clip-path=\"url(#clip950)\" style=\"stroke:#009af9; stroke-linecap:round; stroke-linejoin:round; stroke-width:8; stroke-opacity:1; fill:none\" points=\"1458.01,219.286 1600.47,219.286 \"/>\n",
       "<g clip-path=\"url(#clip950)\">\n",
       "<text style=\"fill:#000000; fill-opacity:1; font-family:Times New Roman,TimesNewRoman,Times,Baskerville,Georgia,serif; font-size:53px; text-anchor:start;\" transform=\"rotate(0, 1624.22, 236.786)\" x=\"1624.22\" y=\"236.786\">Best purified pairs fidelity</text>\n",
       "</g>\n",
       "<polyline clip-path=\"url(#clip950)\" style=\"stroke:#e26f46; stroke-linecap:round; stroke-linejoin:round; stroke-width:8; stroke-opacity:1; fill:none\" points=\"1458.01,271.439 1600.47,271.439 \"/>\n",
       "<g clip-path=\"url(#clip950)\">\n",
       "<text style=\"fill:#000000; fill-opacity:1; font-family:Times New Roman,TimesNewRoman,Times,Baskerville,Georgia,serif; font-size:53px; text-anchor:start;\" transform=\"rotate(0, 1624.22, 288.939)\" x=\"1624.22\" y=\"288.939\">Worst purified pairs fidelity</text>\n",
       "</g>\n",
       "<polyline clip-path=\"url(#clip950)\" style=\"stroke:#3da44d; stroke-linecap:round; stroke-linejoin:round; stroke-width:8; stroke-opacity:1; fill:none\" points=\"1458.01,323.592 1600.47,323.592 \"/>\n",
       "<g clip-path=\"url(#clip950)\">\n",
       "<text style=\"fill:#000000; fill-opacity:1; font-family:Times New Roman,TimesNewRoman,Times,Baskerville,Georgia,serif; font-size:53px; text-anchor:start;\" transform=\"rotate(0, 1624.22, 341.092)\" x=\"1624.22\" y=\"341.092\">Average purified pairs fidelity</text>\n",
       "</g>\n",
       "</svg>\n"
      ]
     },
     "metadata": {},
     "output_type": "display_data"
    }
   ],
   "source": [
    "# Optimize the population and plot trend of results\n",
    "run_with_constraints_history!(pop,config)"
   ]
  },
  {
   "cell_type": "code",
   "execution_count": 6,
   "metadata": {},
   "outputs": [
    {
     "data": {
      "image/png": "[encoded data removed]"
     },
     "metadata": {},
     "output_type": "display_data"
    },
    {
     "name": "stdout",
     "output_type": "stream",
     "text": [
      "Performance([0.9288956127080181, 0.07110438729198185], 0.9288956127080181, 1.0, 0.9288956127080181, 0.3966)\n",
      "Performance([0.897257089725709, 0.10274291027429103], 0.897257089725709, 1.0, 0.897257089725709, 0.4302)\n",
      "Performance([0.8931682714351215, 0.10683172856487849], 0.8931682714351215, 1.0, 0.8931682714351215, 0.4362)\n"
     ]
    },
    {
     "data": {
      "image/png": "[encoded data removed]"
     },
     "metadata": {},
     "output_type": "display_data"
    },
    {
     "data": {
      "image/png": "[encoded data removed]"
     },
     "metadata": {},
     "output_type": "display_data"
    }
   ],
   "source": [
    "# View the top 3 circuits\n",
    "display_top_circuits(pop.individuals,3)"
   ]
  },
  {
   "cell_type": "code",
   "execution_count": 7,
   "metadata": {},
   "outputs": [
    {
     "name": "stdout",
     "output_type": "stream",
     "text": [
      "BPGates.PauliNoiseBellGate{BPGates.CNOTPerm}(BPGates.CNOTPerm(3, 5, 1, 2), 0.0016232274061988388, 0.0016232274061988388, 0.0016232274061988388)\n",
      "BPGates.PauliNoiseBellGate{BPGates.CNOTPerm}(BPGates.CNOTPerm(5, 6, 2, 3), 0.002955235081735052, 0.002955235081735052, 0.002955235081735052)\n",
      "BPGates.PauliNoiseBellGate{BPGates.CNOTPerm}(BPGates.CNOTPerm(4, 3, 4, 3), 0.0027975865743341466, 0.0027975865743341466, 0.0027975865743341466)\n",
      "BPGates.PauliNoiseBellGate{BPGates.CNOTPerm}(BPGates.CNOTPerm(3, 5, 1, 2), 0.0016232274061988388, 0.0016232274061988388, 0.0016232274061988388)\n",
      "BPGates.PauliNoiseBellGate{BPGates.CNOTPerm}(BPGates.CNOTPerm(5, 6, 2, 3), 0.002955235081735052, 0.002955235081735052, 0.002955235081735052)\n",
      "BPGates.NoisyBellMeasureNoisyReset(BPGates.BellMeasure(3, 3), 0.019603000000000002, 0.25, 0.25, 0.25)\n",
      "BPGates.NoisyBellMeasureNoisyReset(BPGates.BellMeasure(1, 4), 0.02531267, 0.06666666666666665, 0.06666666666666665, 0.06666666666666665)\n",
      "BPGates.NoisyBellMeasureNoisyReset(BPGates.BellMeasure(2, 2), 0.0146464, 0.25, 0.25, 0.25)\n"
     ]
    }
   ],
   "source": [
    "# Get the operations of the top circuit\n",
    "ops = pop.individuals[1].ops\n",
    "for op in ops\n",
    "    print(op,\"\\n\")\n",
    "end"
   ]
  },
  {
   "cell_type": "code",
   "execution_count": null,
   "metadata": {},
   "outputs": [],
   "source": []
  }
 ],
 "metadata": {
  "kernelspec": {
   "display_name": "Julia 1.11.3",
   "language": "julia",
   "name": "julia-1.11"
  },
  "language_info": {
   "file_extension": ".jl",
   "mimetype": "application/julia",
   "name": "julia",
   "version": "1.11.3"
  }
 },
 "nbformat": 4,
 "nbformat_minor": 2
}
